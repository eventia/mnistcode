{
  "nbformat": 4,
  "nbformat_minor": 0,
  "metadata": {
    "colab": {
      "name": "aicode08.ipynb",
      "provenance": [],
      "collapsed_sections": [],
      "authorship_tag": "ABX9TyOOZTAoijK6aR7sZNXWhFC4",
      "include_colab_link": true
    },
    "kernelspec": {
      "name": "python3",
      "display_name": "Python 3"
    }
  },
  "cells": [
    {
      "cell_type": "markdown",
      "metadata": {
        "id": "view-in-github",
        "colab_type": "text"
      },
      "source": [
        "<a href=\"https://colab.research.google.com/github/eventia/mnistcode/blob/master/aicode08.ipynb\" target=\"_parent\"><img src=\"https://colab.research.google.com/assets/colab-badge.svg\" alt=\"Open In Colab\"/></a>"
      ]
    },
    {
      "cell_type": "markdown",
      "metadata": {
        "colab_type": "text",
        "id": "5rnuFhorCd5I"
      },
      "source": [
        "# 고등학교 수학과 파이썬으로 배우는 인공지능 소스코드  **Ch 8**"
      ]
    },
    {
      "cell_type": "code",
      "metadata": {
        "id": "Bo3ppEJqLLxy",
        "colab_type": "code",
        "outputId": "b6de23e4-4d9c-44a5-df10-45a12be119c0",
        "colab": {
          "base_uri": "https://localhost:8080/",
          "height": 55
        }
      },
      "source": [
        "# 8.4\t행렬계산을 위한 파이썬 코드 1\n",
        "\n",
        "import numpy as np\n",
        "from numpy.linalg import inv\n",
        "\n",
        "A = np.array([[1,1],\n",
        "              [2,3]])\n",
        "B = np.array([[1100],\n",
        "              [2800]])\n",
        "invA = inv(A)\n",
        "print(np.dot(invA , B))\n"
      ],
      "execution_count": 0,
      "outputs": [
        {
          "output_type": "stream",
          "text": [
            "[[500.]\n",
            " [600.]]\n"
          ],
          "name": "stdout"
        }
      ]
    },
    {
      "cell_type": "code",
      "metadata": {
        "id": "sk4AY1cDSLJL",
        "colab_type": "code",
        "outputId": "aa8ac27f-8cff-46a6-fc93-05f85e5d4de8",
        "colab": {
          "base_uri": "https://localhost:8080/",
          "height": 55
        }
      },
      "source": [
        "# 8.4\t행렬계산을 위한 파이썬 코드 2\n",
        "\n",
        "import numpy as np\n",
        "# from numpy.linalg import inv\n",
        "\n",
        "A = np.array([[1,1],\n",
        "              [2,3]])\n",
        "B = np.array([[1100],\n",
        "              [2800]])\n",
        "# inv(A) 대신 np.linalg.inv(A)\n",
        "invA = np.linalg.inv(A) \n",
        "print(np.dot(invA , B))\n"
      ],
      "execution_count": 0,
      "outputs": [
        {
          "output_type": "stream",
          "text": [
            "[[500.]\n",
            " [600.]]\n"
          ],
          "name": "stdout"
        }
      ]
    },
    {
      "cell_type": "code",
      "metadata": {
        "id": "K_MTGiUoTF1h",
        "colab_type": "code",
        "outputId": "59af3f6d-38de-423d-b59b-6ff656ee6042",
        "colab": {
          "base_uri": "https://localhost:8080/",
          "height": 92
        }
      },
      "source": [
        "# 8.4\t행렬계산을 위한 파이썬 코드 3\n",
        "\n",
        "import numpy as np\n",
        "from numpy.linalg import inv\n",
        "\n",
        "A = np.array([[1,1,1,1],\n",
        "              [5,2,4,7],\n",
        "              [0,1,1,2],\n",
        "              [5,2,2,3]])\n",
        "B = np.array([[2350],\n",
        "              [10600],\n",
        "              [2450],\n",
        "              [6800]])\n",
        "\n",
        "invA = inv(A)\n",
        "print(np.dot(invA, B))\n"
      ],
      "execution_count": 0,
      "outputs": [
        {
          "output_type": "stream",
          "text": [
            "[[500.]\n",
            " [550.]\n",
            " [700.]\n",
            " [600.]]\n"
          ],
          "name": "stdout"
        }
      ]
    },
    {
      "cell_type": "code",
      "metadata": {
        "id": "31IhmxcRTe9V",
        "colab_type": "code",
        "outputId": "42e799c6-1f22-426a-ff65-6a35ef348c3f",
        "colab": {
          "base_uri": "https://localhost:8080/",
          "height": 129
        }
      },
      "source": [
        "# 8.4\t행렬계산을 위한 파이썬 코드 4\n",
        "\n",
        "# 전치행렬\n",
        "import numpy as np\n",
        "\n",
        "# (1)행렬을 만들고\n",
        "A = np.array([[1,1],\n",
        "              [2,3]])\n",
        "\n",
        "print(\"A = \\n\", A)\n",
        "print(\"A.T = \\n\", A.T)  # (2)행렬이름 뒤에 .T 를 붙임\n"
      ],
      "execution_count": 0,
      "outputs": [
        {
          "output_type": "stream",
          "text": [
            "A = \n",
            " [[1 1]\n",
            " [2 3]]\n",
            "A.T = \n",
            " [[1 2]\n",
            " [1 3]]\n"
          ],
          "name": "stdout"
        }
      ]
    },
    {
      "cell_type": "code",
      "metadata": {
        "id": "x2L7rjqbT2Fz",
        "colab_type": "code",
        "outputId": "059a1997-5b8b-4fb5-e565-c2e0748b7c99",
        "colab": {
          "base_uri": "https://localhost:8080/",
          "height": 140
        }
      },
      "source": [
        "# 8.6\t무작위 데이터로 신경망 함수 만들기\n",
        "\n",
        "#00. keras 에서 mnist 데이터 읽어오기\n",
        "import numpy as np\n",
        "from keras.datasets import mnist\n",
        "(x_train, y_train), (x_test, y_test) = mnist.load_data()\n",
        "\n",
        "# 데이터 포맷은 60000,28,28 / 10000,28,28\n",
        "# 데이터를 28x28 에서 784 로 변경\n",
        "x_train = x_train.reshape(60000,784)\n",
        "x_test = x_test.reshape(10000,784)\n",
        "\n",
        "#01 Hidden 1 Layer : W, b 초기화 [W1, W2, B1, B2]\n",
        "def init_mnistbw2(layer_x, layer_h, layer_y):\n",
        "    matrix_nn = {}\n",
        "    matrix_nn = dict(B1=np.random.rand(layer_h), \n",
        "                   B2=np.random.rand(layer_y), \n",
        "                   W1=np.random.rand(layer_x,layer_h), \n",
        "                   W2=np.random.rand(layer_h,layer_y))\n",
        "    return matrix_nn\n",
        "\n",
        "#02. 활성함수\n",
        "def sigmoid(x):\n",
        "    return 1 / (1+np.exp(-x))\n",
        "\n",
        "#03. 소프트맥스\n",
        "def softmax(X):\n",
        "    X = X.T - np.max(X.T, axis=0)\n",
        "    return (np.exp(X) / np.sum(np.exp(X), axis=0)).T\n",
        "\n",
        "#04. predict\n",
        "def predict(X):\n",
        "    A = sigmoid(np.dot(X, W1) + B1)\n",
        "    B = sigmoid(np.dot(A, W2) + B2)\n",
        "    return softmax(B)\n",
        "\n",
        "# process\n",
        "\n",
        "ibw = init_mnistbw2(784,50,10)\n",
        "W1, W2, B1, B2 = ibw['W1'], ibw['W2'], ibw['B1'], ibw['B2']\n",
        "accuracy = 0\n",
        "\n",
        "for i in range(len(x_test)):  # 10,000\n",
        "    y = predict(x_test[i])\n",
        "    p = np.argmax(y)\n",
        "    if p == y_test[i]:\n",
        "        accuracy = accuracy + 1\n",
        "\n",
        "print(\"Acc = \", str(float(accuracy/len(x_test))))   # 0.1 근처의 값\n"
      ],
      "execution_count": 0,
      "outputs": [
        {
          "output_type": "stream",
          "text": [
            "Using TensorFlow backend.\n"
          ],
          "name": "stderr"
        },
        {
          "output_type": "display_data",
          "data": {
            "text/html": [
              "<p style=\"color: red;\">\n",
              "The default version of TensorFlow in Colab will soon switch to TensorFlow 2.x.<br>\n",
              "We recommend you <a href=\"https://www.tensorflow.org/guide/migrate\" target=\"_blank\">upgrade</a> now \n",
              "or ensure your notebook will continue to use TensorFlow 1.x via the <code>%tensorflow_version 1.x</code> magic:\n",
              "<a href=\"https://colab.research.google.com/notebooks/tensorflow_version.ipynb\" target=\"_blank\">more info</a>.</p>\n"
            ],
            "text/plain": [
              "<IPython.core.display.HTML object>"
            ]
          },
          "metadata": {
            "tags": []
          }
        },
        {
          "output_type": "stream",
          "text": [
            "Downloading data from https://s3.amazonaws.com/img-datasets/mnist.npz\n",
            "11493376/11490434 [==============================] - 2s 0us/step\n",
            "Acc =  0.098\n"
          ],
          "name": "stdout"
        }
      ]
    }
  ]
}