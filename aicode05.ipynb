{
  "nbformat": 4,
  "nbformat_minor": 0,
  "metadata": {
    "colab": {
      "name": "aicode05.ipynb",
      "provenance": [],
      "collapsed_sections": [],
      "authorship_tag": "ABX9TyM2ZZIWGVo9z8qvE7kapGLc",
      "include_colab_link": true
    },
    "kernelspec": {
      "name": "python3",
      "display_name": "Python 3"
    }
  },
  "cells": [
    {
      "cell_type": "markdown",
      "metadata": {
        "id": "view-in-github",
        "colab_type": "text"
      },
      "source": [
        "<a href=\"https://colab.research.google.com/github/eventia/mnistcode/blob/master/aicode05.ipynb\" target=\"_parent\"><img src=\"https://colab.research.google.com/assets/colab-badge.svg\" alt=\"Open In Colab\"/></a>"
      ]
    },
    {
      "cell_type": "markdown",
      "metadata": {
        "colab_type": "text",
        "id": "5rnuFhorCd5I"
      },
      "source": [
        "# 고등학교 수학과 파이썬으로 배우는 인공지능 소스코드  **Ch 5**"
      ]
    },
    {
      "cell_type": "code",
      "metadata": {
        "id": "2D65aMIeCkDw",
        "colab_type": "code",
        "outputId": "ff33603f-62fa-4d19-b84d-d23ad0572117",
        "colab": {
          "base_uri": "https://localhost:8080/",
          "height": 35
        }
      },
      "source": [
        "# 5.4.1 퍼셉트론으로 만드는 AND\n",
        "\n",
        "def AND(x1, x2):\n",
        "    w1, w2, theta = .4, .4, .7\n",
        "    if x1*w1 + x2*w2 <= theta:\n",
        "        return 0\n",
        "    else :\n",
        "        return 1\n",
        "\n",
        "print(AND(0,0), AND(0,1), AND(1,0), AND(1,1))\n"
      ],
      "execution_count": 0,
      "outputs": [
        {
          "output_type": "stream",
          "text": [
            "0 0 0 1\n"
          ],
          "name": "stdout"
        }
      ]
    },
    {
      "cell_type": "code",
      "metadata": {
        "id": "PxmDkNAL7nZ0",
        "colab_type": "code",
        "outputId": "52d3d543-65e7-4b29-c0ba-fa9d2d7cffc4",
        "colab": {
          "base_uri": "https://localhost:8080/",
          "height": 35
        }
      },
      "source": [
        "# 5.4.2 퍼셉트론으로 만드는 OR\n",
        "\n",
        "def OR(x1, x2):\n",
        "    w1, w2, theta = .4, .4, .3\n",
        "    if x1*w1 + x2*w2 <= theta:\n",
        "        return 0\n",
        "    else :\n",
        "        return 1\n",
        "\n",
        "print(OR(0,0), OR(0,1), OR(1,0), OR(1,1))\n"
      ],
      "execution_count": 0,
      "outputs": [
        {
          "output_type": "stream",
          "text": [
            "0 1 1 1\n"
          ],
          "name": "stdout"
        }
      ]
    },
    {
      "cell_type": "code",
      "metadata": {
        "id": "LvGSx7-88ClK",
        "colab_type": "code",
        "outputId": "7eed5dba-e298-4b5a-94db-beb795c676b3",
        "colab": {
          "base_uri": "https://localhost:8080/",
          "height": 35
        }
      },
      "source": [
        "# 5.4.3 퍼셉트론으로 만드는 NAND\n",
        "\n",
        "def NAND(x1, x2):\n",
        "    w1, w2, theta = -.4, -.4, -.6\n",
        "    if x1*w1 + x2*w2 <= theta:\n",
        "        return 0\n",
        "    else :\n",
        "        return 1\n",
        "\n",
        "\n",
        "print(NAND(0,0), NAND(0,1), NAND(1,0), NAND(1,1))\n"
      ],
      "execution_count": 0,
      "outputs": [
        {
          "output_type": "stream",
          "text": [
            "1 1 1 0\n"
          ],
          "name": "stdout"
        }
      ]
    },
    {
      "cell_type": "code",
      "metadata": {
        "id": "F1lH1BIo8ba3",
        "colab_type": "code",
        "outputId": "3936711b-e984-440a-8c0f-f5899e746a30",
        "colab": {
          "base_uri": "https://localhost:8080/",
          "height": 35
        }
      },
      "source": [
        "# 5.5.3. NAND, OR, AND 결합한 XOR 코드\n",
        "\n",
        "import numpy as np \n",
        "import matplotlib.pyplot as plt\n",
        "\n",
        "def AND(x1, x2):\n",
        "    w1, w2, theta = .4, .4, .7\n",
        "    if x1*w1 + x2*w2 <= theta:\n",
        "        return 0\n",
        "    else :\n",
        "        return 1\n",
        "\n",
        "def OR(x1, x2):\n",
        "    w1, w2, theta = .4, .4, .3\n",
        "    if x1*w1 + x2*w2 <= theta:\n",
        "        return 0\n",
        "    else :\n",
        "        return 1\n",
        "\n",
        "def NAND(x1, x2):\n",
        "    w1, w2, theta = -.4, -.4, -.6\n",
        "    if x1*w1 + x2*w2 <= theta:\n",
        "        return 0\n",
        "    else :\n",
        "        return 1\n",
        "\n",
        "def XOR(x1, x2):\n",
        "    h1 = NAND(x1, x2)\n",
        "    h2 = OR(x1, x2)\n",
        "    return AND(h1, h2)\n",
        "\n",
        "print(XOR(0,0), XOR(0,1), XOR(1,0), XOR(1,1))\n"
      ],
      "execution_count": 0,
      "outputs": [
        {
          "output_type": "stream",
          "text": [
            "0 1 1 0\n"
          ],
          "name": "stdout"
        }
      ]
    },
    {
      "cell_type": "code",
      "metadata": {
        "id": "pYe2YRQ19JDP",
        "colab_type": "code",
        "colab": {}
      },
      "source": [
        "# 5.5.5. 다층 퍼셉트론의 코드 1 \n",
        "\n",
        "import numpy as np\n",
        "\n",
        "def DLPerceptron(X, W1, W2):\n",
        "    x = np.array(X)\n",
        "    w1 = np.array(W1)\n",
        "    w2 = np.array(W2)\n",
        "    h1 = np.array([0.0]*len(X))\n",
        "    y = np.array([0.0]*len(X))\n",
        "    for count in range(len(X)):\n",
        "        h1[count] = np.sum(x*w1[count]) > 0\n",
        "    for count in range(len(x)):\n",
        "        y[count] = np.sum(h1*w2[count]) > 0\n",
        "    return y\n"
      ],
      "execution_count": 0,
      "outputs": []
    },
    {
      "cell_type": "code",
      "metadata": {
        "id": "4Dpbl3Qp9Rak",
        "colab_type": "code",
        "outputId": "cabd8af2-d671-4c13-bd7d-591208f3bf2a",
        "colab": {
          "base_uri": "https://localhost:8080/",
          "height": 89
        }
      },
      "source": [
        "# 5.5.5. 다층 퍼셉트론의 코드 2\n",
        "\n",
        "W1 = [[-0.4, -0.4, 0, 0, 0, 0.6],\n",
        "[0.4, 0.4, 0, 0, 0, -0.3],\n",
        "[0, 0, 0, 0, 0, 0],\n",
        "[0, 0, 0, 0, 0, 0],\n",
        "[0, 0, 0, 0, 0, 0],\n",
        "[0, 0, 0, 0, 0, 1]]\n",
        "\n",
        "W2 = [[0.4, 0.4, 0, 0, 0, -0.7],\n",
        "[0, 0, 0, 0, 0, 0],\n",
        "[0, 0, 0, 0, 0, 0],\n",
        "[0, 0, 0, 0, 0, 0],\n",
        "[0, 0, 0, 0, 0, 0],\n",
        "[0, 0, 0, 0, 0, 0]]\n",
        "\n",
        "Ex00 = [0,0,0,0,0,1]\n",
        "Ex01 = [0,1,0,0,0,1]\n",
        "Ex10 = [1,0,0,0,0,1]\n",
        "Ex11 = [1,1,0,0,0,1]\n",
        "\n",
        "print(\"x1, x2 = (0, 0) : \", DLPerceptron(Ex00,W1,W2))\n",
        "print(\"x1, x2 = (0, 1) : \", DLPerceptron(Ex01,W1,W2))\n",
        "print(\"x1, x2 = (1, 0) : \", DLPerceptron(Ex10,W1,W2))\n",
        "print(\"x1, x2 = (1, 1) : \", DLPerceptron(Ex11,W1,W2))\n"
      ],
      "execution_count": 0,
      "outputs": [
        {
          "output_type": "stream",
          "text": [
            "x1, x2 = (0, 0) :  [0. 0. 0. 0. 0. 0.]\n",
            "x1, x2 = (0, 1) :  [1. 0. 0. 0. 0. 0.]\n",
            "x1, x2 = (1, 0) :  [1. 0. 0. 0. 0. 0.]\n",
            "x1, x2 = (1, 1) :  [0. 0. 0. 0. 0. 0.]\n"
          ],
          "name": "stdout"
        }
      ]
    }
  ]
}