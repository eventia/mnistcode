{
  "nbformat": 4,
  "nbformat_minor": 0,
  "metadata": {
    "colab": {
      "name": "aicode09.ipynb",
      "provenance": [],
      "collapsed_sections": [],
      "authorship_tag": "ABX9TyPC/RDJxRUTVDHtsLOeEtNu",
      "include_colab_link": true
    },
    "kernelspec": {
      "name": "python3",
      "display_name": "Python 3"
    }
  },
  "cells": [
    {
      "cell_type": "markdown",
      "metadata": {
        "id": "view-in-github",
        "colab_type": "text"
      },
      "source": [
        "<a href=\"https://colab.research.google.com/github/eventia/mnistcode/blob/master/aicode09.ipynb\" target=\"_parent\"><img src=\"https://colab.research.google.com/assets/colab-badge.svg\" alt=\"Open In Colab\"/></a>"
      ]
    },
    {
      "cell_type": "markdown",
      "metadata": {
        "colab_type": "text",
        "id": "5rnuFhorCd5I"
      },
      "source": [
        "# 고등학교 수학과 파이썬으로 배우는 인공지능 소스코드  **Ch 9**"
      ]
    },
    {
      "cell_type": "code",
      "metadata": {
        "id": "Bo3ppEJqLLxy",
        "colab_type": "code",
        "colab": {}
      },
      "source": [
        "# 9.1\t항등함수(identity function) 1\n",
        "\n",
        "def identity_function(x):\n",
        "    return x\n"
      ],
      "execution_count": 0,
      "outputs": []
    },
    {
      "cell_type": "code",
      "metadata": {
        "id": "sk4AY1cDSLJL",
        "colab_type": "code",
        "outputId": "048a0cc7-2617-47bf-c948-c078f72462b9",
        "colab": {
          "base_uri": "https://localhost:8080/",
          "height": 55
        }
      },
      "source": [
        "# 9.2. 비례확률함수\n",
        "\n",
        "import numpy as np\n",
        "def mean_probability(x):\n",
        "    x = x.T\n",
        "    return (x / np.sum(x, axis=0)).T\n",
        "\n",
        "\n",
        "y = np.array([[1,1,3,0,0,0,1,0,0,4],[2,2,5,1,0,0,5,0,1,4]])\n",
        "print(mean_probability(y))\n"
      ],
      "execution_count": 0,
      "outputs": [
        {
          "output_type": "stream",
          "text": [
            "[[0.1  0.1  0.3  0.   0.   0.   0.1  0.   0.   0.4 ]\n",
            " [0.1  0.1  0.25 0.05 0.   0.   0.25 0.   0.05 0.2 ]]\n"
          ],
          "name": "stdout"
        }
      ]
    },
    {
      "cell_type": "code",
      "metadata": {
        "id": "K_MTGiUoTF1h",
        "colab_type": "code",
        "outputId": "c0c48122-1fd5-4fb6-b93a-4ba661382d1d",
        "colab": {
          "base_uri": "https://localhost:8080/",
          "height": 55
        }
      },
      "source": [
        "# 9.3. 소프트맥스 함수\n",
        "\n",
        "import numpy as np\n",
        "\n",
        "def softmax(X):\n",
        "    X = X.T - np.max(X.T, axis=0)\n",
        "    return (np.exp(X) / np.sum(np.exp(X), axis=0)).T\n",
        "\n",
        "softmax(np.array([[1,1,2,4,6,0,0,0,0,0]]))"
      ],
      "execution_count": 0,
      "outputs": [
        {
          "output_type": "execute_result",
          "data": {
            "text/plain": [
              "array([[0.00571245, 0.00571245, 0.01552804, 0.11473753, 0.84780208,\n",
              "        0.00210149, 0.00210149, 0.00210149, 0.00210149, 0.00210149]])"
            ]
          },
          "metadata": {
            "tags": []
          },
          "execution_count": 11
        }
      ]
    }
  ]
}